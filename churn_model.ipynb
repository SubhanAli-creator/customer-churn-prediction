{
 "cells": [
  {
   "cell_type": "code",
   "execution_count": 4,
   "id": "798a09db-3186-43d5-af46-881229594c0d",
   "metadata": {},
   "outputs": [],
   "source": [
    "import pandas as pd\n",
    "import numpy as np\n",
    "import matplotlib.pyplot as plt\n",
    "import seaborn as sns\n",
    "\n",
    "from sklearn.model_selection import train_test_split\n",
    "from sklearn.preprocessing import LabelEncoder\n",
    "from sklearn.linear_model import LogisticRegression\n",
    "from sklearn.metrics import accuracy_score, confusion_matrix, classification_report\n"
   ]
  },
  {
   "cell_type": "markdown",
   "id": "6215161e",
   "metadata": {},
   "source": [
    "Load DataSet and preprocessing"
   ]
  },
  {
   "cell_type": "code",
   "execution_count": 21,
   "id": "ddb8f3a9",
   "metadata": {},
   "outputs": [
    {
     "name": "stdout",
     "output_type": "stream",
     "text": [
      "   gender  SeniorCitizen  Partner  Dependents  tenure  PhoneService  \\\n",
      "0       0              0      1.0         NaN       1           NaN   \n",
      "1       1              0      NaN         NaN      34           1.0   \n",
      "2       1              0      NaN         NaN       2           1.0   \n",
      "3       1              0      NaN         NaN      45           NaN   \n",
      "4       0              0      NaN         NaN       2           1.0   \n",
      "\n",
      "   PaperlessBilling  MonthlyCharges  TotalCharges  Churn  ...  \\\n",
      "0               1.0           29.85         29.85    NaN  ...   \n",
      "1               NaN           56.95       1889.50    NaN  ...   \n",
      "2               1.0           53.85        108.15    1.0  ...   \n",
      "3               NaN           42.30       1840.75    NaN  ...   \n",
      "4               1.0           70.70        151.65    1.0  ...   \n",
      "\n",
      "   TechSupport_Yes  StreamingTV_No internet service  StreamingTV_Yes  \\\n",
      "0            False                            False            False   \n",
      "1            False                            False            False   \n",
      "2            False                            False            False   \n",
      "3             True                            False            False   \n",
      "4            False                            False            False   \n",
      "\n",
      "   StreamingMovies_No internet service  StreamingMovies_Yes  \\\n",
      "0                                False                False   \n",
      "1                                False                False   \n",
      "2                                False                False   \n",
      "3                                False                False   \n",
      "4                                False                False   \n",
      "\n",
      "   Contract_One year  Contract_Two year  \\\n",
      "0              False              False   \n",
      "1               True              False   \n",
      "2              False              False   \n",
      "3               True              False   \n",
      "4              False              False   \n",
      "\n",
      "   PaymentMethod_Credit card (automatic)  PaymentMethod_Electronic check  \\\n",
      "0                                  False                            True   \n",
      "1                                  False                           False   \n",
      "2                                  False                           False   \n",
      "3                                  False                           False   \n",
      "4                                  False                            True   \n",
      "\n",
      "   PaymentMethod_Mailed check  \n",
      "0                       False  \n",
      "1                        True  \n",
      "2                        True  \n",
      "3                       False  \n",
      "4                       False  \n",
      "\n",
      "[5 rows x 31 columns]\n",
      "gender                                     int64\n",
      "SeniorCitizen                              int64\n",
      "Partner                                  float64\n",
      "Dependents                               float64\n",
      "tenure                                     int64\n",
      "PhoneService                             float64\n",
      "PaperlessBilling                         float64\n",
      "MonthlyCharges                           float64\n",
      "TotalCharges                             float64\n",
      "Churn                                    float64\n",
      "MultipleLines_No phone service              bool\n",
      "MultipleLines_Yes                           bool\n",
      "InternetService_Fiber optic                 bool\n",
      "InternetService_No                          bool\n",
      "OnlineSecurity_No internet service          bool\n",
      "OnlineSecurity_Yes                          bool\n",
      "OnlineBackup_No internet service            bool\n",
      "OnlineBackup_Yes                            bool\n",
      "DeviceProtection_No internet service        bool\n",
      "DeviceProtection_Yes                        bool\n",
      "TechSupport_No internet service             bool\n",
      "TechSupport_Yes                             bool\n",
      "StreamingTV_No internet service             bool\n",
      "StreamingTV_Yes                             bool\n",
      "StreamingMovies_No internet service         bool\n",
      "StreamingMovies_Yes                         bool\n",
      "Contract_One year                           bool\n",
      "Contract_Two year                           bool\n",
      "PaymentMethod_Credit card (automatic)       bool\n",
      "PaymentMethod_Electronic check              bool\n",
      "PaymentMethod_Mailed check                  bool\n",
      "dtype: object\n"
     ]
    }
   ],
   "source": [
    "df=pd.read_csv(r'data\\telco_customer_churn.csv.csv')\n",
    "df.drop(columns=['customerID'],inplace=True)\n",
    "df['TotalCharges']=pd.to_numeric(df['TotalCharges'],errors='coerce')\n",
    "binary_map={'Yes':1,'NO':0,'Male':1,'Female':0}\n",
    "for col in ['Partner','gender','Dependents','PhoneService','PaperlessBilling','Churn']:\n",
    " df[col]=df[col].map(binary_map)\n",
    "\n",
    " mul_cat_col=['MultipleLines','InternetService','OnlineSecurity','OnlineBackup','DeviceProtection','TechSupport','StreamingTV','StreamingMovies','Contract','PaymentMethod']\n",
    "df=pd.get_dummies(df,columns=mul_cat_col,drop_first=True)\n",
    "print(df.head())\n",
    "print(df.dtypes)"
   ]
  },
  {
   "cell_type": "markdown",
   "id": "6298bd59",
   "metadata": {},
   "source": [
    "Train/Test Split"
   ]
  },
  {
   "cell_type": "code",
   "execution_count": 22,
   "id": "32148a67",
   "metadata": {},
   "outputs": [],
   "source": [
    "x=df.drop('Churn',axis=1)\n",
    "y=df['Churn']\n",
    "X_train,Y_train,X_test,Y_test=train_test_split(x,y,test_size=0.2,random_state=42)\n"
   ]
  }
 ],
 "metadata": {
  "kernelspec": {
   "display_name": "base",
   "language": "python",
   "name": "python3"
  },
  "language_info": {
   "codemirror_mode": {
    "name": "ipython",
    "version": 3
   },
   "file_extension": ".py",
   "mimetype": "text/x-python",
   "name": "python",
   "nbconvert_exporter": "python",
   "pygments_lexer": "ipython3",
   "version": "3.12.7"
  }
 },
 "nbformat": 4,
 "nbformat_minor": 5
}
